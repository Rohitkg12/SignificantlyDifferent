{
 "cells": [
  {
   "cell_type": "markdown",
   "metadata": {},
   "source": [
    "### All imports ( for quick Copy and Paste)"
   ]
  },
  {
   "cell_type": "markdown",
   "metadata": {},
   "source": [
    "**General Imports - Along with basic settings and default values**"
   ]
  },
  {
   "cell_type": "code",
   "execution_count": 1,
   "metadata": {},
   "outputs": [],
   "source": [
    "import numpy as np # linear algebra\n",
    "import pandas as pd # data processing\n",
    "import seaborn as sns #for data visualization\n",
    "import matplotlib.pyplot as plt  #for data visualization\n",
    "import warnings\n",
    "from pathlib import Path\n",
    "RANDOM_STATE = 27\n",
    "plt.style.use('bmh')\n",
    "pd.set_option(\"display.max_columns\", 100)\n",
    "warnings.filterwarnings('ignore')"
   ]
  },
  {
   "cell_type": "markdown",
   "metadata": {},
   "source": [
    "**sk-Learn Imports**"
   ]
  },
  {
   "cell_type": "code",
   "execution_count": 2,
   "metadata": {},
   "outputs": [],
   "source": [
    "from sklearn.preprocessing import StandardScaler,MinMaxScaler,RobustScaler,Normalizer\n",
    "from sklearn.preprocessing import StandardScaler,OneHotEncoder, MinMaxScaler\n",
    "from sklearn.feature_extraction import DictVectorizer\n",
    "from sklearn.impute import SimpleImputer\n",
    "from sklearn.compose import ColumnTransformer\n",
    "from sklearn.multiclass import OneVsRestClassifier\n",
    "from sklearn.linear_model import LogisticRegression\n",
    "from sklearn.svm import SVC, LinearSVC\n",
    "from sklearn.pipeline import Pipeline, make_pipeline\n",
    "from sklearn import set_config\n",
    "from sklearn.model_selection import train_test_split,GridSearchCV,StratifiedKFold\n",
    "from sklearn.metrics import roc_curve, roc_auc_score, accuracy_score\n",
    "from sklearn.ensemble import RandomForestClassifier, VotingClassifier\n",
    "from sklearn.decomposition import PCA\n",
    "from sklearn.tree import DecisionTreeClassifier\n",
    "import xgboost as xgb\n",
    "\n",
    "\n",
    "from sklearn.multioutput import MultiOutputClassifier\n",
    "from sklearn.ensemble import GradientBoostingClassifier,VotingClassifier\n",
    "\n",
    "set_config(display='diagram')"
   ]
  },
  {
   "cell_type": "markdown",
   "metadata": {},
   "source": [
    "### Preprocessing Functions ( Completed )\n",
    "\n",
    "Use following command to access these functions(to be updated on addition a new function in this section)\n",
    "> **from ipynb.fs.full.AnalysisTools import nullInfo,nullInfoCompare, dropColumns**"
   ]
  },
  {
   "cell_type": "code",
   "execution_count": 3,
   "metadata": {},
   "outputs": [],
   "source": [
    "def nullInfo(data):\n",
    "    columns = data.columns.tolist() # find all column names\n",
    "    col_datatypes  = (data.dtypes).to_list() # find column data types\n",
    "    col_sums = (data.isnull().sum()).to_list() # find all the null values in column\n",
    "    col_per = (data.isnull().mean().round(5)*100).to_list() # find percentage of null values in the column\n",
    "    col_nquniue = data.nunique().to_list() # find the unique values in each columns\n",
    "    \n",
    "    \n",
    "    # Create the final table\n",
    "    nullDf = pd.DataFrame(\n",
    "        {'colName': columns,\n",
    "         'dataType': col_datatypes,\n",
    "         'uniqueEntries':col_nquniue,\n",
    "         'nullEntries': col_sums,\n",
    "         'nullPercentage': col_per\n",
    "        })\n",
    "    \n",
    "    return nullDf"
   ]
  },
  {
   "cell_type": "code",
   "execution_count": 4,
   "metadata": {},
   "outputs": [],
   "source": [
    "def nullInfoCompare(train,test):\n",
    "    columns = train.columns.tolist() # find all column names\n",
    "    col_datatypes  = (train.dtypes).to_list() # find column data types\n",
    "    \n",
    "    col_per = (train.isnull().mean().round(5)*100).to_list() # find percentage of null values in the column in taining data\n",
    "    col_per_test = (test.isnull().mean().round(5)*100).to_list() # find percentage of null values in the column in test data\n",
    "    \n",
    "    col_nquniue = train.nunique().to_list() # find the unique values in each columns in taining data\n",
    "    col_nquniue_test = test.nunique().to_list() # find the unique values in each columns in test data\n",
    "     \n",
    "    # Create the final table\n",
    "    nullDf = pd.DataFrame(\n",
    "        {'colName': columns,\n",
    "         'dataType': col_datatypes,\n",
    "         'uniqueEntriesTrain':col_nquniue,         \n",
    "         'uniqueEntriesTest':col_nquniue_test,\n",
    "         'nullPercentageTrain': col_per,\n",
    "         'nullPercentageTest': col_per_test\n",
    "        })\n",
    "    \n",
    "    return nullDf"
   ]
  },
  {
   "cell_type": "code",
   "execution_count": 5,
   "metadata": {},
   "outputs": [],
   "source": [
    "def dropColumns(data,colArr=[],per=101):\n",
    "    columns = data.columns.tolist()\n",
    "    col_per = (data.isnull().mean().round(5)*100).to_list()\n",
    "    additionalCols = [columns[i] for i,val in enumerate(col_per) if val > per]\n",
    "    \n",
    "    dropCols = list(set( colArr + additionalCols )) \n",
    "    \n",
    "    data.drop(dropCols,inplace=True) \n",
    "    \n"
   ]
  },
  {
   "cell_type": "code",
   "execution_count": null,
   "metadata": {},
   "outputs": [],
   "source": []
  },
  {
   "cell_type": "code",
   "execution_count": null,
   "metadata": {},
   "outputs": [],
   "source": []
  },
  {
   "cell_type": "markdown",
   "metadata": {},
   "source": [
    "### Preprocessing Functions ( Work in Progress )\n",
    "\n",
    "\n",
    "Use following command to access these functions(these are experimental stuff)\n",
    "> **from ipynb.fs.full.AnalysisTools import show**"
   ]
  },
  {
   "cell_type": "code",
   "execution_count": 6,
   "metadata": {},
   "outputs": [],
   "source": [
    "def show(*arguments):\n",
    "    for argument in arguments: \n",
    "        print(argument) "
   ]
  },
  {
   "cell_type": "code",
   "execution_count": 7,
   "metadata": {},
   "outputs": [],
   "source": [
    "# PPS related stuff\n",
    "\n",
    "\n",
    "# import ppscore as pps\n",
    "# import warnings\n",
    "# warnings.filterwarnings(\"ignore\")\n",
    "# df = pd.merge(train_features, train_labels, left_index=True, right_index=True)\n",
    "\n",
    "# matrix_train = pps.matrix(df) \n",
    "\n",
    "\n",
    "# matrix_df = matrix_train[['x', 'y', 'ppscore']].pivot(columns='x', index='y', values='ppscore')\n",
    "# plt.figure(figsize = (60,60))\n",
    "# sns.heatmap(matrix_df, vmin=0, vmax=1, cmap=\"Blues\", linewidths=0.5, annot=True )\n",
    "\n",
    "# # matrix_train = pps.matrix(train_features) \n",
    "# matrix_df = pps.matrix(df)[['x', 'y', 'ppscore']].pivot(columns='x', index='y', values='ppscore')\n",
    "# sns.heatmap(matrix_df, vmin=0, vmax=1, cmap=\"Blues\", linewidths=0.5, annot=True)"
   ]
  },
  {
   "cell_type": "code",
   "execution_count": 8,
   "metadata": {},
   "outputs": [],
   "source": [
    "# heatmap and other analysis \n",
    "\n",
    "\n",
    "# sns.heatmap(train_features.isnull(), yticklabels=False, cbar=False, cmap='viridis')"
   ]
  },
  {
   "cell_type": "code",
   "execution_count": 9,
   "metadata": {},
   "outputs": [],
   "source": [
    "#merge columns \n",
    "\n",
    "# train_features['extraction_info'] = train_features[['extraction_type','extraction_type_group','extraction_type_class']].apply(lambda x: ''.join(x), axis=1)\n",
    "# test_features['extraction_info'] = test_features[['extraction_type','extraction_type_group','extraction_type_class']].apply(lambda x: ''.join(x), axis=1)\n",
    "# train_features['source_info'] = train_features[['source', 'source_type','source_class']].apply(lambda x: ''.join(x), axis=1)\n",
    "# test_features['source_info'] = test_features[['source', 'source_type','source_class']].apply(lambda x: ''.join(x), axis=1)"
   ]
  },
  {
   "cell_type": "code",
   "execution_count": 10,
   "metadata": {},
   "outputs": [],
   "source": [
    "# Manual category\n",
    "\n",
    "\n",
    "# cat_columns = train_features.select_dtypes(include=['object']).columns.to_list()\n",
    "# for col in cat_columns:\n",
    "# #     if train_features[col].nunique() >= 20:\n",
    "#         train_features[col] = train_features[col].astype('category')\n",
    "#         train_features[col] = train_features[col].cat.codes\n",
    "#         test_features[col] = test_features[col].astype('category')\n",
    "#         test_features[col] = test_features[col].cat.codes"
   ]
  },
  {
   "cell_type": "code",
   "execution_count": 11,
   "metadata": {},
   "outputs": [],
   "source": [
    "# for Binary variable creation\n",
    "\n",
    "\n",
    "# train_features['public_meeting'] = train_features['public_meeting'].replace({True: 1, False: 0})\n",
    "# train_features['permit'] = train_features['permit'].replace({True: 1, False: 0})"
   ]
  },
  {
   "cell_type": "code",
   "execution_count": 12,
   "metadata": {},
   "outputs": [],
   "source": [
    "# Pipeline setup\n",
    "\n",
    "# numeric_cols = train_features.columns[train_features.dtypes != \"object\"].values\n",
    "# object_cols = train_features.columns[train_features.dtypes == \"object\"].values\n",
    "\n",
    "\n",
    "# numeric_preprocessing_steps = Pipeline([\n",
    "#     ('imputer', SimpleImputer(strategy='mean')),\n",
    "#     ('standard_scaler', MinMaxScaler()),\n",
    "# ])\n",
    "\n",
    "# categorical_transformer = Pipeline(steps=[\n",
    "#     ('imputer', SimpleImputer(strategy='constant', fill_value='missing')),\n",
    "#     ('ordinalEncode', OrdinalEncoder())\n",
    "# ])\n",
    "\n",
    "# preprocessor = ColumnTransformer(\n",
    "#     transformers = [\n",
    "#         (\"numeric\", numeric_preprocessing_steps,numeric_cols),\n",
    "#         (\"categorical\", categorical_transformer,object_cols),\n",
    "#     ])\n",
    "\n",
    "# pipe  = Pipeline([\n",
    "#             (\"preprocessor\", preprocessor),\n",
    "#              ] ) \n",
    "\n",
    "# pipe.fit(all_features)\n",
    "\n",
    "# train_features_trans = pipe.transform(train_features)\n",
    "# test_features_trans = pipe.transform(test_features)\n"
   ]
  },
  {
   "cell_type": "code",
   "execution_count": null,
   "metadata": {},
   "outputs": [],
   "source": []
  },
  {
   "cell_type": "code",
   "execution_count": null,
   "metadata": {},
   "outputs": [],
   "source": []
  },
  {
   "cell_type": "code",
   "execution_count": null,
   "metadata": {},
   "outputs": [],
   "source": []
  },
  {
   "cell_type": "markdown",
   "metadata": {},
   "source": [
    "### List of useful function "
   ]
  },
  {
   "cell_type": "code",
   "execution_count": 13,
   "metadata": {},
   "outputs": [],
   "source": [
    "# train_features.info()"
   ]
  },
  {
   "cell_type": "code",
   "execution_count": 14,
   "metadata": {},
   "outputs": [],
   "source": [
    "# df = pd.merge(train_features, train_labels, left_index=True, right_index=True)"
   ]
  },
  {
   "cell_type": "code",
   "execution_count": 15,
   "metadata": {},
   "outputs": [],
   "source": [
    "# print(train_features.shape, train_labels.shape,test_features.shape)"
   ]
  },
  {
   "cell_type": "code",
   "execution_count": 16,
   "metadata": {},
   "outputs": [],
   "source": [
    "# sns.boxplot(x = 'status_group', y = 'num_private', data = df, flierprops = dict(markerfacecolor = '0.50', markersize = 2))\n",
    "# sns.boxplot(x = 'status_group', y = 'num_private', data = df, showfliers = False)"
   ]
  }
 ],
 "metadata": {
  "kernelspec": {
   "display_name": "selflearn",
   "language": "python",
   "name": "selflearn"
  },
  "language_info": {
   "codemirror_mode": {
    "name": "ipython",
    "version": 3
   },
   "file_extension": ".py",
   "mimetype": "text/x-python",
   "name": "python",
   "nbconvert_exporter": "python",
   "pygments_lexer": "ipython3",
   "version": "3.7.1"
  }
 },
 "nbformat": 4,
 "nbformat_minor": 4
}
