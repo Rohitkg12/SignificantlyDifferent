{
 "cells": [
  {
   "cell_type": "markdown",
   "metadata": {},
   "source": [
    "# Flu Shot Learning: Predict H1N1 and Seasonal Flu Vaccines"
   ]
  },
  {
   "cell_type": "markdown",
   "metadata": {},
   "source": [
    "## Imports"
   ]
  },
  {
   "cell_type": "code",
   "execution_count": 97,
   "metadata": {},
   "outputs": [],
   "source": [
    "import numpy as np # linear algebra\n",
    "import pandas as pd # data processing\n",
    "import seaborn as sns #for data visualization\n",
    "import matplotlib.pyplot as plt  #for data visualization\n",
    "from sklearn.preprocessing import StandardScaler,MinMaxScaler,RobustScaler,Normalizer\n",
    "\n",
    "pd.set_option(\"display.max_columns\", 100)"
   ]
  },
  {
   "cell_type": "code",
   "execution_count": 98,
   "metadata": {},
   "outputs": [],
   "source": [
    "train_features = pd.read_csv(\"data/training_set_features.csv\", index_col=\"respondent_id\")\n",
    "train_labels = pd.read_csv(\"data/training_set_labels.csv\", index_col=\"respondent_id\")\n",
    "test_features = pd.read_csv(\"data/test_set_features.csv\", index_col=\"respondent_id\")"
   ]
  },
  {
   "cell_type": "code",
   "execution_count": 99,
   "metadata": {},
   "outputs": [],
   "source": [
    "def tableDetails(df):\n",
    "    print(\"Table Details\")\n",
    "    print(\"\\nTable Shape\" ,df.shape, sep='\\n')\n",
    "    print(\"\\nTop five rows\" ,df.head(), sep='\\n')    \n",
    "    \n",
    "def columnDetails(df):\n",
    "    print(df.info())\n",
    "    print(df.describe())\n",
    "\n",
    "def columnAnalysis(df,colarr):    \n",
    "    print(df.columns)"
   ]
  },
  {
   "cell_type": "code",
   "execution_count": 100,
   "metadata": {},
   "outputs": [],
   "source": [
    "# train_features.drop(['employment_industry', 'employment_occupation'], axis=1,inplace=True)\n",
    "# train_features.drop(['employment_industry', 'employment_occupation','health_insurance'], axis=1,inplace=True)\n",
    "# test_features.drop(['employment_industry', 'employment_occupation'], axis=1,inplace=True)\n",
    "# test_features.drop(['employment_industry', 'employment_occupation','health_insurance'], axis=1,inplace=True)"
   ]
  },
  {
   "cell_type": "code",
   "execution_count": 101,
   "metadata": {},
   "outputs": [],
   "source": [
    "columns = train_features.columns.tolist()\n",
    "col_sums = (train_features.isnull().sum()).to_list()\n",
    "col_per = (train_features.isnull().mean().round(5)*100).to_list()\n",
    "nullDf = pd.DataFrame(\n",
    "    {'cols': columns,\n",
    "     'nullentries': col_sums,\n",
    "     'nullpercentage': col_per\n",
    "    })"
   ]
  },
  {
   "cell_type": "code",
   "execution_count": 102,
   "metadata": {},
   "outputs": [],
   "source": [
    "columns = test_features.columns.tolist()\n",
    "col_sums = (test_features.isnull().sum()).to_list()\n",
    "col_per = (test_features.isnull().mean().round(5)*100).to_list()\n",
    "col_nquniue = test_features.nunique().to_list()\n",
    "nullDfTest = pd.DataFrame(\n",
    "        {'cols': columns,\n",
    "         'nullentries': col_sums,\n",
    "         'nullpercentage': col_per,\n",
    "         'nunique': col_nquniue\n",
    "        })"
   ]
  },
  {
   "cell_type": "code",
   "execution_count": 94,
   "metadata": {},
   "outputs": [],
   "source": [
    "def fillColumnModes(df, arr):\n",
    "    for col in arr:\n",
    "#         df[col]=df[col].fillna(method='ffill')\n",
    "        df[col]=df[col].fillna(df[col].mode()[0])\n",
    "    return df"
   ]
  },
  {
   "cell_type": "code",
   "execution_count": 95,
   "metadata": {},
   "outputs": [],
   "source": [
    "train_null_cols = nullDf[nullDf['nullentries'] != 0].cols.to_list()\n",
    "train_features = fillColumnModes(train_features,train_null_cols)"
   ]
  },
  {
   "cell_type": "code",
   "execution_count": 96,
   "metadata": {},
   "outputs": [],
   "source": [
    "test_null_cols = nullDf[nullDf['nullentries'] != 0].cols.to_list()\n",
    "test_features = fillColumnModes(test_features,train_null_cols)"
   ]
  },
  {
   "cell_type": "code",
   "execution_count": 29,
   "metadata": {},
   "outputs": [],
   "source": [
    "# sns.heatmap(test_features.isnull(), yticklabels=False, cbar=False, cmap='viridis')"
   ]
  },
  {
   "cell_type": "code",
   "execution_count": 30,
   "metadata": {},
   "outputs": [],
   "source": [
    "# train_features = pd.get_dummies(train_features, columns=['race','sex','marital_status','rent_or_own','hhs_geo_region','employment_status','census_msa','age_group','education','income_poverty'],drop_first=True)\n",
    "# test_features = pd.get_dummies(test_features, columns=['race','sex','marital_status','rent_or_own','hhs_geo_region','employment_status','census_msa','age_group','education','income_poverty'],drop_first=True)"
   ]
  },
  {
   "cell_type": "code",
   "execution_count": 103,
   "metadata": {},
   "outputs": [],
   "source": [
    "cat_columns = train_features.select_dtypes(include=['object']).columns.to_list()\n",
    "for col in cat_columns:\n",
    "    train_features[col] = train_features[col].astype('category')\n",
    "    train_features[col] = train_features[col].cat.codes\n",
    "    test_features[col] = test_features[col].astype('category')\n",
    "    test_features[col] = test_features[col].cat.codes"
   ]
  },
  {
   "cell_type": "code",
   "execution_count": null,
   "metadata": {},
   "outputs": [],
   "source": []
  },
  {
   "cell_type": "markdown",
   "metadata": {},
   "source": [
    "## Data Modeling"
   ]
  },
  {
   "cell_type": "code",
   "execution_count": 104,
   "metadata": {},
   "outputs": [],
   "source": [
    "from sklearn.preprocessing import StandardScaler, OneHotEncoder, OrdinalEncoder\n",
    "from sklearn.impute import SimpleImputer\n",
    "from sklearn.compose import ColumnTransformer\n",
    "\n",
    "from sklearn.linear_model import LogisticRegression\n",
    "from sklearn.multioutput import MultiOutputClassifier\n",
    "from sklearn.ensemble import GradientBoostingClassifier,VotingClassifier\n",
    "from sklearn.ensemble import AdaBoostClassifier,RandomForestClassifier,AdaBoostRegressor\n",
    "from sklearn.neural_network import MLPClassifier\n",
    "from sklearn.naive_bayes import GaussianNB\n",
    "from sklearn.tree import DecisionTreeClassifier\n",
    "from sklearn.svm import SVC\n",
    "from sklearn.compose import ColumnTransformer\n",
    "from sklearn.ensemble import BaggingClassifier\n",
    "\n",
    "\n",
    "from sklearn.pipeline import Pipeline\n",
    "\n",
    "from sklearn.model_selection import train_test_split\n",
    "\n",
    "from sklearn.metrics import roc_curve, roc_auc_score\n",
    "\n",
    "RANDOM_SEED = 27    # Set a random seed for reproducibility!"
   ]
  },
  {
   "cell_type": "code",
   "execution_count": 107,
   "metadata": {},
   "outputs": [],
   "source": [
    "from sklearn.pipeline import Pipeline\n",
    "from sklearn.preprocessing import StandardScaler\n",
    "from sklearn.linear_model import LogisticRegression\n",
    "from sklearn.model_selection import RandomizedSearchCV\n",
    "from sklearn.decomposition import PCA\n",
    "from scipy.stats import uniform\n",
    "import xgboost as xgb"
   ]
  },
  {
   "cell_type": "code",
   "execution_count": 110,
   "metadata": {},
   "outputs": [],
   "source": [
    "\n",
    "xgClass = xgb.XGBClassifier(objective='reg:logistic',random_state=27,\n",
    "n_estimators=100, gamma = 10, colsample_bytree = 0.3,metrics=\"rmse\", max_depth = 4, alpha = 5,\n",
    "learning_rate=0.85, verbosity=0,n_jobs=6)\n",
    "distributions = dict(learning_rate=[1,.5,.1,.05,.01],\n",
    "                     n_estimators=[10,50,100,200])\n",
    "\n",
    "clf = RandomizedSearchCV(xgClass, distributions, random_state=27)\n",
    "# clf.fit(X_train, y_train).score(X_eval, y_eval)\n",
    "# clf.fit(X_train, y_train).best_params_\n",
    "                                  \n",
    "pipe= Pipeline([\n",
    "                ('scalar', MinMaxScaler()),\n",
    "              ('clf', clf)]\n",
    "            )"
   ]
  },
  {
   "cell_type": "code",
   "execution_count": 111,
   "metadata": {},
   "outputs": [
    {
     "data": {
      "text/plain": [
       "0.8384388472884048"
      ]
     },
     "execution_count": 111,
     "metadata": {},
     "output_type": "execute_result"
    }
   ],
   "source": [
    "pipe.fit(X_train, y_train).score(X_eval, y_eval)"
   ]
  },
  {
   "cell_type": "code",
   "execution_count": null,
   "metadata": {},
   "outputs": [],
   "source": []
  },
  {
   "cell_type": "code",
   "execution_count": 72,
   "metadata": {},
   "outputs": [
    {
     "data": {
      "text/plain": [
       "0.8340140685273428"
      ]
     },
     "execution_count": 72,
     "metadata": {},
     "output_type": "execute_result"
    }
   ],
   "source": [
    "logistic = LogisticRegression(solver='saga', tol=1e-2, max_iter=200, random_state=27)\n",
    "distributions = dict(C=uniform(loc=0, scale=4),\n",
    "                     penalty=['l2', 'l1'])\n",
    "\n",
    "clf = RandomizedSearchCV(logistic, distributions, random_state=27)\n",
    "clf.fit(X_train, y_train).score(X_eval, y_eval)"
   ]
  },
  {
   "cell_type": "code",
   "execution_count": 112,
   "metadata": {},
   "outputs": [],
   "source": [
    "ada = AdaBoostClassifier(learning_rate=.5,n_estimators=150, random_state=RANDOM_SEED)\n",
    "distributions = dict(learning_rate=uniform(loc=0, scale=4),\n",
    "                     n_estimators=[10,50,100,200])\n",
    "\n",
    "clf = RandomizedSearchCV(ada, distributions, random_state=27)\n",
    "# clf.fit(X_train, y_train).score(X_eval, y_eval)\n",
    "# clf.fit(X_train, y_train).best_params_\n",
    "                                  \n",
    "pipe= Pipeline([\n",
    "#             [('reduce_dim', PCA(n_components=10)), \n",
    "                ('scalar', MinMaxScaler()),\n",
    "              ('clf', clf)]\n",
    "            )"
   ]
  },
  {
   "cell_type": "code",
   "execution_count": 113,
   "metadata": {},
   "outputs": [
    {
     "data": {
      "text/plain": [
       "0.8362831858407079"
      ]
     },
     "execution_count": 113,
     "metadata": {},
     "output_type": "execute_result"
    }
   ],
   "source": [
    "pipe.fit(X_train, y_train).score(X_eval, y_eval)"
   ]
  },
  {
   "cell_type": "code",
   "execution_count": 64,
   "metadata": {},
   "outputs": [],
   "source": [
    "clf1 = AdaBoostClassifier(learning_rate=.5,n_estimators=150, random_state=RANDOM_SEED)\n",
    "clf2 = GradientBoostingClassifier(learning_rate=.5,random_state=RANDOM_SEED)\n",
    "clf3 = LogisticRegression(penalty=\"l2\",solver=\"newton-cg\", C=10)\n",
    "classifier = VotingClassifier(estimators=[('ab', clf1), ('gb', clf2), ('lr', clf3)], voting='soft')\n",
    "                                  \n",
    "estimators = [\n",
    "#             ('reduce_dim', PCA(n_components=10)), \n",
    "              ('clf', classifier)\n",
    "            ]\n",
    "\n"
   ]
  },
  {
   "cell_type": "code",
   "execution_count": 65,
   "metadata": {},
   "outputs": [
    {
     "data": {
      "text/plain": [
       "Pipeline(steps=[('clf',\n",
       "                 VotingClassifier(estimators=[('ab',\n",
       "                                               AdaBoostClassifier(learning_rate=0.5,\n",
       "                                                                  n_estimators=150,\n",
       "                                                                  random_state=27)),\n",
       "                                              ('gb',\n",
       "                                               GradientBoostingClassifier(learning_rate=0.5,\n",
       "                                                                          random_state=27)),\n",
       "                                              ('lr',\n",
       "                                               LogisticRegression(C=10,\n",
       "                                                                  solver='newton-cg'))],\n",
       "                                  voting='soft'))])"
      ]
     },
     "execution_count": 65,
     "metadata": {},
     "output_type": "execute_result"
    }
   ],
   "source": [
    "pipe = Pipeline(estimators)\n",
    "pipe"
   ]
  },
  {
   "cell_type": "code",
   "execution_count": 66,
   "metadata": {},
   "outputs": [],
   "source": [
    "X_train, X_eval, y_train, y_eval = train_test_split(\n",
    "    train_features,\n",
    "    train_labels['h1n1_vaccine'],\n",
    "    test_size=0.33,\n",
    "    shuffle=True,\n",
    "    stratify=train_labels['h1n1_vaccine'],\n",
    "    random_state=RANDOM_SEED\n",
    ")"
   ]
  },
  {
   "cell_type": "code",
   "execution_count": 67,
   "metadata": {},
   "outputs": [
    {
     "data": {
      "text/plain": [
       "0.8396868618107556"
      ]
     },
     "execution_count": 67,
     "metadata": {},
     "output_type": "execute_result"
    }
   ],
   "source": [
    "pipe.fit(X_train, y_train).score(X_eval, y_eval)"
   ]
  },
  {
   "cell_type": "code",
   "execution_count": null,
   "metadata": {},
   "outputs": [],
   "source": []
  },
  {
   "cell_type": "code",
   "execution_count": null,
   "metadata": {},
   "outputs": [],
   "source": []
  },
  {
   "cell_type": "code",
   "execution_count": 256,
   "metadata": {},
   "outputs": [],
   "source": [
    "scalar = StandardScaler()\n",
    "# scalar = MinMaxScaler()\n",
    "# scalar = RobustScaler()\n",
    "# scalar = Normalizer()\n",
    "X= scalar.fit_transform(train_features)"
   ]
  },
  {
   "cell_type": "code",
   "execution_count": 257,
   "metadata": {},
   "outputs": [],
   "source": [
    "# import category_encoders as ce\n",
    "# encoding_pipeline = Pipeline([\n",
    "#   ('encode_categories', ce.OneHotEncoder(cols=['race','sex','marital_status','rent_or_own','hhs_geo_region','employment_status','census_msa'], return_df=True)),\n",
    "#   ('encode_ordinals', ce.OrdinalEncoder(cols=['age_group','education','income_poverty'],return_df=True))\n",
    "# ])\n",
    "\n",
    "# # Get the encoded training set:\n",
    "# df_train_encoded = encoding_pipeline.fit_transform(X, y['h1n1_vaccine'])\n",
    "# df_train_encoded['age_group']\n",
    "# X = df_train_encoded"
   ]
  },
  {
   "cell_type": "code",
   "execution_count": 258,
   "metadata": {},
   "outputs": [],
   "source": [
    "X= train_features\n",
    "y= train_labels"
   ]
  },
  {
   "cell_type": "code",
   "execution_count": 259,
   "metadata": {},
   "outputs": [],
   "source": [
    "X_train, X_eval, y_train, y_eval = train_test_split(\n",
    "    X,\n",
    "    y,\n",
    "    test_size=0.33,\n",
    "    shuffle=True,\n",
    "    stratify=y,\n",
    "    random_state=RANDOM_SEED\n",
    ")"
   ]
  },
  {
   "cell_type": "code",
   "execution_count": 273,
   "metadata": {},
   "outputs": [],
   "source": [
    "# classifier = MultiOutputClassifier(estimator=GaussianNB())\n",
    "# classifier = MultiOutputClassifier(estimator=MLPClassifier(hidden_layer_sizes=(150,100,150), max_iter=300,verbose=1,activation = 'relu',solver='adam',random_state=1))\n",
    "classifier = MultiOutputClassifier(estimator=AdaBoostClassifier(learning_rate=.5,n_estimators=150, random_state=RANDOM_SEED))\n",
    "# classifier = MultiOutputClassifier(estimator=RandomForestClassifier(max_depth=8, warm_start=True , random_state=RANDOM_SEED))\n",
    "# classifier = MultiOutputClassifier(estimator=LogisticRegression(penalty=\"l2\",solver=\"newton-cg\", C=10))\n",
    "# classifier = MultiOutputClassifier(estimator=GradientBoostingClassifier(learning_rate=.5,random_state=RANDOM_SEED))\n",
    "# classifier = MultiOutputClassifier(estimator=DecisionTreeClassifier(max_depth=12, random_state=0))\n",
    "# classifier = MultiOutputClassifier(estimator=SVC(gamma='auto'))\n",
    "# classifier = MultiOutputClassifier(estimator=BaggingClassifier(base_estimator=LogisticRegression(penalty=\"l2\",solver=\"newton-cg\", C=10), n_estimators=10,random_state=RANDOM_SEED))"
   ]
  },
  {
   "cell_type": "code",
   "execution_count": 274,
   "metadata": {},
   "outputs": [],
   "source": [
    "clf1 = AdaBoostClassifier(learning_rate=.5,n_estimators=150, random_state=RANDOM_SEED)\n",
    "clf2 = GradientBoostingClassifier(learning_rate=.5,random_state=RANDOM_SEED)\n",
    "clf3 = LogisticRegression(penalty=\"l2\",solver=\"newton-cg\", C=10)\n",
    "\n",
    "\n",
    "classifier = MultiOutputClassifier(estimator=VotingClassifier(estimators=[('ab', clf1), ('gb', clf2), ('lr', clf3)], voting='soft'))"
   ]
  },
  {
   "cell_type": "code",
   "execution_count": 276,
   "metadata": {},
   "outputs": [],
   "source": [
    "\n",
    "# classifier = xgb.XGBClassifier(objective='reg:logistic',random_state=27,\n",
    "# n_estimators=100, gamma = 10, colsample_bytree = 0.3,metrics=\"rmse\", max_depth = 4, alpha = 5,\n",
    "# learning_rate=0.85, verbosity=0,n_jobs=6)\n",
    "\n",
    "# classifier.fit(X_train,y_train['h1n1_vaccine'])\n",
    "# classifier.score(X_eval,y_eval['h1n1_vaccine'])"
   ]
  },
  {
   "cell_type": "code",
   "execution_count": null,
   "metadata": {},
   "outputs": [],
   "source": []
  },
  {
   "cell_type": "code",
   "execution_count": 275,
   "metadata": {},
   "outputs": [],
   "source": [
    "# classifier2 = xgb.XGBClassifier(objective='reg:logistic', random_state=27,\n",
    "# n_estimators=100, gamma = 1, colsample_bytree = 0.3,metrics=\"rmse\", max_depth = 5, alpha = 10,\n",
    "# learning_rate=.01, verbosity=0, n_jobs=6)\n",
    "# classifier2.fit(X_train,y_train['seasonal_vaccine'])\n",
    "# classifier2.score(X_eval,y_eval['seasonal_vaccine'])"
   ]
  },
  {
   "cell_type": "code",
   "execution_count": 277,
   "metadata": {},
   "outputs": [],
   "source": [
    "# classifier2 = MultiOutputClassifier(estimator=xgb.XGBClassifier(objective='binary:logistic', random_state=27,\n",
    "# n_estimators=100, gamma = 10, colsample_bytree = 0.1, max_depth = 5, alpha = 10,\n",
    "# learning_rate=.1, verbosity=0, n_jobs=6))\n",
    "# classifier2.fit(X_train,y_train)\n",
    "# classifier2.score(X_eval,y_eval)"
   ]
  },
  {
   "cell_type": "code",
   "execution_count": null,
   "metadata": {},
   "outputs": [],
   "source": []
  },
  {
   "cell_type": "code",
   "execution_count": null,
   "metadata": {},
   "outputs": [],
   "source": [
    "# classifier = xgb.XGBClassifier(objective ='binary:logistic', colsample_bytree = 0.3,metrics=\"rmse\", learning_rate = 0.1,\n",
    "#                 max_depth = 5, alpha = 10, n_estimators = 10)\n",
    "# classifier = MultiOutputClassifier(estimator=xgb.XGBClassifier(objective ='binary:logistic', colsample_bytree = 0.3, learning_rate = 0.1,\n",
    "#                 max_depth = 5, alpha = 10, n_estimators = 10))"
   ]
  },
  {
   "cell_type": "code",
   "execution_count": 278,
   "metadata": {},
   "outputs": [
    {
     "data": {
      "text/plain": [
       "MultiOutputClassifier(estimator=VotingClassifier(estimators=[('ab',\n",
       "                                                              AdaBoostClassifier(learning_rate=0.5,\n",
       "                                                                                 n_estimators=150,\n",
       "                                                                                 random_state=27)),\n",
       "                                                             ('gb',\n",
       "                                                              GradientBoostingClassifier(learning_rate=0.5,\n",
       "                                                                                         random_state=27)),\n",
       "                                                             ('lr',\n",
       "                                                              LogisticRegression(C=10,\n",
       "                                                                                 solver='newton-cg'))],\n",
       "                                                 voting='soft'))"
      ]
     },
     "execution_count": 278,
     "metadata": {},
     "output_type": "execute_result"
    }
   ],
   "source": [
    "classifier.fit(X_train,y_train)"
   ]
  },
  {
   "cell_type": "code",
   "execution_count": 279,
   "metadata": {},
   "outputs": [
    {
     "data": {
      "text/plain": [
       "[array([[0.46803785, 0.53196215],\n",
       "        [0.70220301, 0.29779699],\n",
       "        [0.74650827, 0.25349173],\n",
       "        ...,\n",
       "        [0.73248951, 0.26751049],\n",
       "        [0.75350366, 0.24649634],\n",
       "        [0.79586075, 0.20413925]]),\n",
       " array([[0.28184213, 0.71815787],\n",
       "        [0.62191902, 0.37808098],\n",
       "        [0.49345915, 0.50654085],\n",
       "        ...,\n",
       "        [0.77550641, 0.22449359],\n",
       "        [0.67715482, 0.32284518],\n",
       "        [0.69506953, 0.30493047]])]"
      ]
     },
     "execution_count": 279,
     "metadata": {},
     "output_type": "execute_result"
    }
   ],
   "source": [
    "preds = classifier.predict_proba(X_eval)\n",
    "preds"
   ]
  },
  {
   "cell_type": "markdown",
   "metadata": {},
   "source": [
    "## Data Hypertuning"
   ]
  },
  {
   "cell_type": "code",
   "execution_count": 280,
   "metadata": {},
   "outputs": [],
   "source": [
    "# classifier.score(X_eval,y_eval['h1n1_vaccine'])"
   ]
  },
  {
   "cell_type": "markdown",
   "metadata": {},
   "source": [
    "## Validation Prediction"
   ]
  },
  {
   "cell_type": "code",
   "execution_count": 281,
   "metadata": {},
   "outputs": [
    {
     "name": "stdout",
     "output_type": "stream",
     "text": [
      "y_preds.shape: (8814, 2)\n"
     ]
    },
    {
     "data": {
      "text/html": [
       "<div>\n",
       "<style scoped>\n",
       "    .dataframe tbody tr th:only-of-type {\n",
       "        vertical-align: middle;\n",
       "    }\n",
       "\n",
       "    .dataframe tbody tr th {\n",
       "        vertical-align: top;\n",
       "    }\n",
       "\n",
       "    .dataframe thead th {\n",
       "        text-align: right;\n",
       "    }\n",
       "</style>\n",
       "<table border=\"1\" class=\"dataframe\">\n",
       "  <thead>\n",
       "    <tr style=\"text-align: right;\">\n",
       "      <th></th>\n",
       "      <th>h1n1_vaccine</th>\n",
       "      <th>seasonal_vaccine</th>\n",
       "    </tr>\n",
       "    <tr>\n",
       "      <th>respondent_id</th>\n",
       "      <th></th>\n",
       "      <th></th>\n",
       "    </tr>\n",
       "  </thead>\n",
       "  <tbody>\n",
       "    <tr>\n",
       "      <th>11165</th>\n",
       "      <td>0.531962</td>\n",
       "      <td>0.718158</td>\n",
       "    </tr>\n",
       "    <tr>\n",
       "      <th>1765</th>\n",
       "      <td>0.297797</td>\n",
       "      <td>0.378081</td>\n",
       "    </tr>\n",
       "    <tr>\n",
       "      <th>15706</th>\n",
       "      <td>0.253492</td>\n",
       "      <td>0.506541</td>\n",
       "    </tr>\n",
       "    <tr>\n",
       "      <th>21220</th>\n",
       "      <td>0.190522</td>\n",
       "      <td>0.215106</td>\n",
       "    </tr>\n",
       "    <tr>\n",
       "      <th>2858</th>\n",
       "      <td>0.262075</td>\n",
       "      <td>0.425213</td>\n",
       "    </tr>\n",
       "  </tbody>\n",
       "</table>\n",
       "</div>"
      ],
      "text/plain": [
       "               h1n1_vaccine  seasonal_vaccine\n",
       "respondent_id                                \n",
       "11165              0.531962          0.718158\n",
       "1765               0.297797          0.378081\n",
       "15706              0.253492          0.506541\n",
       "21220              0.190522          0.215106\n",
       "2858               0.262075          0.425213"
      ]
     },
     "execution_count": 281,
     "metadata": {},
     "output_type": "execute_result"
    }
   ],
   "source": [
    "y_preds = pd.DataFrame(\n",
    "    {\n",
    "        \"h1n1_vaccine\": preds[0][:, 1],\n",
    "        \"seasonal_vaccine\": preds[1][:, 1],\n",
    "    },\n",
    "    index = y_eval.index\n",
    ")\n",
    "print(\"y_preds.shape:\", y_preds.shape)\n",
    "y_preds.head()"
   ]
  },
  {
   "cell_type": "code",
   "execution_count": 282,
   "metadata": {},
   "outputs": [],
   "source": [
    "def plot_roc(y_true, y_score, label_name, ax):\n",
    "    fpr, tpr, thresholds = roc_curve(y_true, y_score)\n",
    "    ax.plot(fpr, tpr)\n",
    "    ax.plot([0, 1], [0, 1], color='grey', linestyle='--')\n",
    "    ax.set_ylabel('TPR')\n",
    "    ax.set_xlabel('FPR')\n",
    "    ax.set_title(\n",
    "        f\"{label_name}: AUC = {roc_auc_score(y_true, y_score):.4f}\"\n",
    "    )"
   ]
  },
  {
   "cell_type": "code",
   "execution_count": 283,
   "metadata": {},
   "outputs": [
    {
     "data": {
      "image/png": "[encoded data removed]",
      "text/plain": [
       "<Figure size 504x252 with 2 Axes>"
      ]
     },
     "metadata": {
      "needs_background": "light"
     },
     "output_type": "display_data"
    }
   ],
   "source": [
    "fig, ax = plt.subplots(1, 2, figsize=(7, 3.5))\n",
    "\n",
    "plot_roc(\n",
    "    y_eval['h1n1_vaccine'], \n",
    "    y_preds['h1n1_vaccine'], \n",
    "    'h1n1_vaccine',\n",
    "    ax=ax[0]\n",
    ")\n",
    "plot_roc(\n",
    "    y_eval['seasonal_vaccine'], \n",
    "    y_preds['seasonal_vaccine'], \n",
    "    'seasonal_vaccine',\n",
    "    ax=ax[1]\n",
    ")\n",
    "fig.tight_layout()"
   ]
  },
  {
   "cell_type": "code",
   "execution_count": 284,
   "metadata": {},
   "outputs": [
    {
     "data": {
      "text/plain": [
       "0.8484556412435016"
      ]
     },
     "execution_count": 284,
     "metadata": {},
     "output_type": "execute_result"
    }
   ],
   "source": [
    "roc_auc_score(y_eval, y_preds)"
   ]
  },
  {
   "cell_type": "code",
   "execution_count": null,
   "metadata": {},
   "outputs": [],
   "source": []
  },
  {
   "cell_type": "code",
   "execution_count": null,
   "metadata": {},
   "outputs": [],
   "source": []
  },
  {
   "cell_type": "markdown",
   "metadata": {},
   "source": [
    "## Test Prediction"
   ]
  },
  {
   "cell_type": "code",
   "execution_count": 286,
   "metadata": {},
   "outputs": [],
   "source": [
    "# df_train_transformed.columns"
   ]
  },
  {
   "cell_type": "code",
   "execution_count": 287,
   "metadata": {},
   "outputs": [],
   "source": [
    "test_features_df = test_features"
   ]
  },
  {
   "cell_type": "code",
   "execution_count": 290,
   "metadata": {},
   "outputs": [
    {
     "data": {
      "text/plain": [
       "[array([[0.77013951, 0.22986049],\n",
       "        [0.80934071, 0.19065929],\n",
       "        [0.55071256, 0.44928744],\n",
       "        ...,\n",
       "        [0.75141927, 0.24858073],\n",
       "        [0.80711784, 0.19288216],\n",
       "        [0.47630727, 0.52369273]]),\n",
       " array([[0.6875214 , 0.3124786 ],\n",
       "        [0.8183301 , 0.1816699 ],\n",
       "        [0.31124706, 0.68875294],\n",
       "        ...,\n",
       "        [0.65944692, 0.34055308],\n",
       "        [0.58933951, 0.41066049],\n",
       "        [0.47600649, 0.52399351]])]"
      ]
     },
     "execution_count": 290,
     "metadata": {},
     "output_type": "execute_result"
    }
   ],
   "source": [
    "# df_test_transformed = encoder.transform(test_features_df)\n",
    "test_probas = classifier.predict_proba(test_features_df)\n",
    "test_probas"
   ]
  },
  {
   "cell_type": "code",
   "execution_count": 291,
   "metadata": {},
   "outputs": [
    {
     "data": {
      "text/plain": [
       "[array([[0.77013951, 0.22986049],\n",
       "        [0.80934071, 0.19065929],\n",
       "        [0.55071256, 0.44928744],\n",
       "        ...,\n",
       "        [0.75141927, 0.24858073],\n",
       "        [0.80711784, 0.19288216],\n",
       "        [0.47630727, 0.52369273]]),\n",
       " array([[0.6875214 , 0.3124786 ],\n",
       "        [0.8183301 , 0.1816699 ],\n",
       "        [0.31124706, 0.68875294],\n",
       "        ...,\n",
       "        [0.65944692, 0.34055308],\n",
       "        [0.58933951, 0.41066049],\n",
       "        [0.47600649, 0.52399351]])]"
      ]
     },
     "execution_count": 291,
     "metadata": {},
     "output_type": "execute_result"
    }
   ],
   "source": [
    "test_probas = classifier.predict_proba(test_features_df)\n",
    "test_probas"
   ]
  },
  {
   "cell_type": "code",
   "execution_count": null,
   "metadata": {},
   "outputs": [],
   "source": []
  },
  {
   "cell_type": "code",
   "execution_count": null,
   "metadata": {},
   "outputs": [],
   "source": []
  },
  {
   "cell_type": "code",
   "execution_count": null,
   "metadata": {},
   "outputs": [],
   "source": []
  },
  {
   "cell_type": "markdown",
   "metadata": {},
   "source": [
    "## Submission"
   ]
  },
  {
   "cell_type": "code",
   "execution_count": 292,
   "metadata": {},
   "outputs": [],
   "source": [
    "submission_df = pd.read_csv(\"data/submission_format.csv\", index_col=\"respondent_id\")"
   ]
  },
  {
   "cell_type": "code",
   "execution_count": 293,
   "metadata": {},
   "outputs": [
    {
     "data": {
      "text/html": [
       "<div>\n",
       "<style scoped>\n",
       "    .dataframe tbody tr th:only-of-type {\n",
       "        vertical-align: middle;\n",
       "    }\n",
       "\n",
       "    .dataframe tbody tr th {\n",
       "        vertical-align: top;\n",
       "    }\n",
       "\n",
       "    .dataframe thead th {\n",
       "        text-align: right;\n",
       "    }\n",
       "</style>\n",
       "<table border=\"1\" class=\"dataframe\">\n",
       "  <thead>\n",
       "    <tr style=\"text-align: right;\">\n",
       "      <th></th>\n",
       "      <th>h1n1_vaccine</th>\n",
       "      <th>seasonal_vaccine</th>\n",
       "    </tr>\n",
       "    <tr>\n",
       "      <th>respondent_id</th>\n",
       "      <th></th>\n",
       "      <th></th>\n",
       "    </tr>\n",
       "  </thead>\n",
       "  <tbody>\n",
       "    <tr>\n",
       "      <th>26707</th>\n",
       "      <td>0.5</td>\n",
       "      <td>0.7</td>\n",
       "    </tr>\n",
       "    <tr>\n",
       "      <th>26708</th>\n",
       "      <td>0.5</td>\n",
       "      <td>0.7</td>\n",
       "    </tr>\n",
       "    <tr>\n",
       "      <th>26709</th>\n",
       "      <td>0.5</td>\n",
       "      <td>0.7</td>\n",
       "    </tr>\n",
       "    <tr>\n",
       "      <th>26710</th>\n",
       "      <td>0.5</td>\n",
       "      <td>0.7</td>\n",
       "    </tr>\n",
       "    <tr>\n",
       "      <th>26711</th>\n",
       "      <td>0.5</td>\n",
       "      <td>0.7</td>\n",
       "    </tr>\n",
       "  </tbody>\n",
       "</table>\n",
       "</div>"
      ],
      "text/plain": [
       "               h1n1_vaccine  seasonal_vaccine\n",
       "respondent_id                                \n",
       "26707                   0.5               0.7\n",
       "26708                   0.5               0.7\n",
       "26709                   0.5               0.7\n",
       "26710                   0.5               0.7\n",
       "26711                   0.5               0.7"
      ]
     },
     "execution_count": 293,
     "metadata": {},
     "output_type": "execute_result"
    }
   ],
   "source": [
    "submission_df.head()"
   ]
  },
  {
   "cell_type": "code",
   "execution_count": 294,
   "metadata": {},
   "outputs": [
    {
     "data": {
      "text/html": [
       "<div>\n",
       "<style scoped>\n",
       "    .dataframe tbody tr th:only-of-type {\n",
       "        vertical-align: middle;\n",
       "    }\n",
       "\n",
       "    .dataframe tbody tr th {\n",
       "        vertical-align: top;\n",
       "    }\n",
       "\n",
       "    .dataframe thead th {\n",
       "        text-align: right;\n",
       "    }\n",
       "</style>\n",
       "<table border=\"1\" class=\"dataframe\">\n",
       "  <thead>\n",
       "    <tr style=\"text-align: right;\">\n",
       "      <th></th>\n",
       "      <th>h1n1_vaccine</th>\n",
       "      <th>seasonal_vaccine</th>\n",
       "    </tr>\n",
       "    <tr>\n",
       "      <th>respondent_id</th>\n",
       "      <th></th>\n",
       "      <th></th>\n",
       "    </tr>\n",
       "  </thead>\n",
       "  <tbody>\n",
       "    <tr>\n",
       "      <th>26707</th>\n",
       "      <td>0.229860</td>\n",
       "      <td>0.312479</td>\n",
       "    </tr>\n",
       "    <tr>\n",
       "      <th>26708</th>\n",
       "      <td>0.190659</td>\n",
       "      <td>0.181670</td>\n",
       "    </tr>\n",
       "    <tr>\n",
       "      <th>26709</th>\n",
       "      <td>0.449287</td>\n",
       "      <td>0.688753</td>\n",
       "    </tr>\n",
       "    <tr>\n",
       "      <th>26710</th>\n",
       "      <td>0.553601</td>\n",
       "      <td>0.724860</td>\n",
       "    </tr>\n",
       "    <tr>\n",
       "      <th>26711</th>\n",
       "      <td>0.290636</td>\n",
       "      <td>0.505621</td>\n",
       "    </tr>\n",
       "  </tbody>\n",
       "</table>\n",
       "</div>"
      ],
      "text/plain": [
       "               h1n1_vaccine  seasonal_vaccine\n",
       "respondent_id                                \n",
       "26707              0.229860          0.312479\n",
       "26708              0.190659          0.181670\n",
       "26709              0.449287          0.688753\n",
       "26710              0.553601          0.724860\n",
       "26711              0.290636          0.505621"
      ]
     },
     "execution_count": 294,
     "metadata": {},
     "output_type": "execute_result"
    }
   ],
   "source": [
    "# Make sure we have the rows in the same order\n",
    "np.testing.assert_array_equal(test_features_df.index.values, \n",
    "                              submission_df.index.values)\n",
    "\n",
    "# Save predictions to submission data frame\n",
    "submission_df[\"h1n1_vaccine\"] = test_probas[0][:, 1]\n",
    "submission_df[\"seasonal_vaccine\"] = test_probas[1][:, 1]\n",
    "\n",
    "submission_df.head()"
   ]
  },
  {
   "cell_type": "code",
   "execution_count": 295,
   "metadata": {},
   "outputs": [],
   "source": [
    "submission_df.to_csv('my_submission3.csv', index=True)"
   ]
  },
  {
   "cell_type": "code",
   "execution_count": 614,
   "metadata": {},
   "outputs": [
    {
     "name": "stderr",
     "output_type": "stream",
     "text": [
      "'head' is not recognized as an internal or external command,\n",
      "operable program or batch file.\n"
     ]
    }
   ],
   "source": [
    "!head my_submission.csv"
   ]
  },
  {
   "cell_type": "code",
   "execution_count": null,
   "metadata": {},
   "outputs": [],
   "source": []
  }
 ],
 "metadata": {
  "kernelspec": {
   "display_name": "Python 3",
   "language": "python",
   "name": "python3"
  },
  "language_info": {
   "codemirror_mode": {
    "name": "ipython",
    "version": 3
   },
   "file_extension": ".py",
   "mimetype": "text/x-python",
   "name": "python",
   "nbconvert_exporter": "python",
   "pygments_lexer": "ipython3",
   "version": "3.8.5"
  }
 },
 "nbformat": 4,
 "nbformat_minor": 2
}
